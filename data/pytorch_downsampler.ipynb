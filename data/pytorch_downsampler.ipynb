{
 "cells": [
  {
   "cell_type": "code",
   "execution_count": 10,
   "metadata": {},
   "outputs": [],
   "source": [
    "import numpy as np\n",
    "import torch\n",
    "import torch.nn.functional as F\n",
    "\n",
    "data = np.load('test_ds.npz')"
   ]
  },
  {
   "cell_type": "code",
   "execution_count": 11,
   "metadata": {},
   "outputs": [
    {
     "name": "stdout",
     "output_type": "stream",
     "text": [
      "(3000, 3, 64, 256)\n"
     ]
    }
   ],
   "source": [
    "downsamp = 2\n",
    "\n",
    "hr_nx = data['Hy_fields'][0][0].shape[0]\n",
    "hr_nz = data['Hy_fields'][0][0].shape[1]\n",
    "num_examples = data['Hy_fields'].shape[0]\n",
    "\n",
    "\n",
    "lr_nx = int(hr_nx/downsamp)\n",
    "lr_nz = int(hr_nz/downsamp)\n",
    "\n",
    "\n",
    "fields = ['Re_Hy', 'Im_Hy', 'eps']\n",
    "\n",
    "hr_data = np.empty((num_examples, len(fields), hr_nx, hr_nz))\n",
    "\n",
    "hr_data[:, 0, :, :] = data['Hy_fields'][:, 0, :, :]\n",
    "hr_data[:, 1, :, :] = data['Hy_fields'][:, 1, :, :]\n",
    "hr_data[:, 2, :, :]= data['structures'][:, 0, :, :]\n",
    "\n",
    "print(hr_data.shape)\n",
    "\n",
    "hr_data = torch.from_numpy(hr_data)\n",
    "\n"
   ]
  },
  {
   "cell_type": "code",
   "execution_count": 12,
   "metadata": {},
   "outputs": [],
   "source": [
    "weights = torch.ones((3, 3, downsamp, downsamp), dtype=torch.double)/(downsamp**2)\n",
    "\n",
    "lr_data = F.conv2d(hr_data, weight=weights, stride=2)"
   ]
  },
  {
   "cell_type": "code",
   "execution_count": 13,
   "metadata": {},
   "outputs": [],
   "source": [
    "np.savez('lr_data', Re_Hy=lr_data[:,0,:, :], Im_Hy=lr_data[:,1,:, :], eps=lr_data[:,2,:, :])\n",
    "np.savez('hr_data', Re_Hy=hr_data[:,0,:, :], Im_Hy=hr_data[:,1,:, :], eps=hr_data[:,2,:, :])"
   ]
  },
  {
   "cell_type": "code",
   "execution_count": 14,
   "metadata": {},
   "outputs": [
    {
     "data": {
      "text/plain": [
       "array([[2.95021233, 2.94130674, 2.94621423, ..., 3.0031168 , 2.98893386,\n",
       "        2.96919155],\n",
       "       [2.83210212, 2.82209459, 2.83106604, ..., 2.88982973, 2.88382524,\n",
       "        2.86168504],\n",
       "       [2.12637478, 2.12462723, 2.14157754, ..., 7.10576206, 7.1121935 ,\n",
       "        7.08545184],\n",
       "       ...,\n",
       "       [0.90831438, 0.98654997, 1.05858144, ..., 0.59782214, 0.72240253,\n",
       "        0.82566667],\n",
       "       [1.01433264, 1.09595575, 1.17002574, ..., 0.69892468, 0.81881259,\n",
       "        0.92341742],\n",
       "       [1.12886799, 1.21229701, 1.28753599, ..., 0.81571506, 0.93185294,\n",
       "        1.0359564 ]])"
      ]
     },
     "execution_count": 14,
     "metadata": {},
     "output_type": "execute_result"
    }
   ],
   "source": [
    "lr_data_load = np.load('lr_data.npz')\n",
    "lr_data_load['eps'][0]"
   ]
  }
 ],
 "metadata": {
  "kernelspec": {
   "display_name": "phys113",
   "language": "python",
   "name": "python3"
  },
  "language_info": {
   "codemirror_mode": {
    "name": "ipython",
    "version": 3
   },
   "file_extension": ".py",
   "mimetype": "text/x-python",
   "name": "python",
   "nbconvert_exporter": "python",
   "pygments_lexer": "ipython3",
   "version": "3.11.3"
  },
  "orig_nbformat": 4
 },
 "nbformat": 4,
 "nbformat_minor": 2
}
