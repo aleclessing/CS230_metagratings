{
 "cells": [
  {
   "cell_type": "code",
   "execution_count": 1,
   "metadata": {},
   "outputs": [],
   "source": [
    "import numpy as np\n",
    "import torch\n",
    "import torch.nn.functional as F\n",
    "\n",
    "data = np.load('test_ds.npz')"
   ]
  },
  {
   "cell_type": "code",
   "execution_count": 2,
   "metadata": {},
   "outputs": [
    {
     "name": "stdout",
     "output_type": "stream",
     "text": [
      "(3000, 3, 64, 256)\n"
     ]
    }
   ],
   "source": [
    "downsamp = 2\n",
    "\n",
    "hr_nx = data['Hy_fields'][0][0].shape[0]\n",
    "hr_nz = data['Hy_fields'][0][0].shape[1]\n",
    "num_examples = data['Hy_fields'].shape[0]\n",
    "\n",
    "\n",
    "lr_nx = int(hr_nx/downsamp)\n",
    "lr_nz = int(hr_nz/downsamp)\n",
    "\n",
    "\n",
    "fields = ['Re_Hy', 'Im_Hy', 'eps']\n",
    "\n",
    "hr_data = np.empty((num_examples, len(fields), hr_nx, hr_nz))\n",
    "\n",
    "hr_data[:, 0, :, :] = data['Hy_fields'][:, 0, :, :]\n",
    "hr_data[:, 1, :, :] = data['Hy_fields'][:, 1, :, :]\n",
    "hr_data[:, 2, :, :]= data['structures'][:, 0, :, :]\n",
    "\n",
    "print(hr_data.shape)\n",
    "\n",
    "hr_data = torch.from_numpy(hr_data)\n",
    "\n"
   ]
  },
  {
   "cell_type": "code",
   "execution_count": 3,
   "metadata": {},
   "outputs": [],
   "source": [
    "weights = torch.ones((3, 3, downsamp, downsamp), dtype=torch.double)/(downsamp**2)\n",
    "\n",
    "lr_data = F.conv2d(hr_data, weight=weights, stride=2)"
   ]
  },
  {
   "cell_type": "code",
   "execution_count": 4,
   "metadata": {},
   "outputs": [],
   "source": [
    "np.save('lr_data', lr_data)\n",
    "np.save('hr_data', hr_data)"
   ]
  },
  {
   "cell_type": "code",
   "execution_count": 5,
   "metadata": {},
   "outputs": [],
   "source": [
    "lr_data_load = np.load('lr_data.npy')"
   ]
  },
  {
   "cell_type": "code",
   "execution_count": 6,
   "metadata": {},
   "outputs": [
    {
     "data": {
      "text/plain": [
       "(3000, 3, 32, 128)"
      ]
     },
     "execution_count": 6,
     "metadata": {},
     "output_type": "execute_result"
    }
   ],
   "source": [
    "lr_data_load.shape"
   ]
  },
  {
   "cell_type": "code",
   "execution_count": null,
   "metadata": {},
   "outputs": [],
   "source": []
  }
 ],
 "metadata": {
  "kernelspec": {
   "display_name": "phys113",
   "language": "python",
   "name": "python3"
  },
  "language_info": {
   "codemirror_mode": {
    "name": "ipython",
    "version": 3
   },
   "file_extension": ".py",
   "mimetype": "text/x-python",
   "name": "python",
   "nbconvert_exporter": "python",
   "pygments_lexer": "ipython3",
   "version": "3.9.10"
  },
  "orig_nbformat": 4
 },
 "nbformat": 4,
 "nbformat_minor": 2
}
