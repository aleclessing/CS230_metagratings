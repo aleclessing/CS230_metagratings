{
 "cells": [
  {
   "cell_type": "code",
   "execution_count": 1,
   "metadata": {},
   "outputs": [],
   "source": [
    "import numpy as np\n",
    "\n",
    "data = np.load('test_ds.npz')"
   ]
  },
  {
   "cell_type": "code",
   "execution_count": 2,
   "metadata": {},
   "outputs": [
    {
     "name": "stdout",
     "output_type": "stream",
     "text": [
      "0\n",
      "1\n",
      "2\n",
      "3\n",
      "4\n",
      "5\n",
      "6\n",
      "7\n",
      "8\n",
      "9\n",
      "10\n",
      "11\n",
      "12\n",
      "13\n",
      "14\n",
      "15\n",
      "16\n",
      "17\n",
      "18\n",
      "19\n",
      "20\n",
      "21\n",
      "22\n",
      "23\n",
      "24\n",
      "25\n",
      "26\n",
      "27\n",
      "28\n",
      "29\n",
      "30\n",
      "31\n",
      "32\n",
      "33\n",
      "34\n",
      "35\n",
      "36\n",
      "37\n",
      "38\n",
      "39\n",
      "40\n",
      "41\n",
      "42\n",
      "43\n",
      "44\n",
      "45\n",
      "46\n",
      "47\n",
      "48\n",
      "49\n",
      "50\n",
      "51\n",
      "52\n",
      "53\n",
      "54\n",
      "55\n",
      "56\n",
      "57\n",
      "58\n",
      "59\n",
      "60\n",
      "61\n",
      "62\n",
      "63\n",
      "64\n",
      "65\n",
      "66\n",
      "67\n",
      "68\n",
      "69\n",
      "70\n",
      "71\n",
      "72\n",
      "73\n",
      "74\n",
      "75\n",
      "76\n",
      "77\n",
      "78\n",
      "79\n",
      "80\n",
      "81\n",
      "82\n",
      "83\n",
      "84\n",
      "85\n",
      "86\n",
      "87\n",
      "88\n",
      "89\n",
      "90\n",
      "91\n",
      "92\n",
      "93\n",
      "94\n",
      "95\n",
      "96\n",
      "97\n",
      "98\n",
      "99\n"
     ]
    }
   ],
   "source": [
    "hr_nx = data['Hy_fields'][0][0].shape[0]\n",
    "hr_nz = data['Hy_fields'][0][0].shape[1]\n",
    "num_examples = 100 #data['Hy_fields'].shape[0]\n",
    "\n",
    "lr_nx = int(hr_nx/downsamp)\n",
    "lr_nz = int(hr_nz/downsamp)\n",
    "\n",
    "lr_data = {}\n",
    "hr_data = {}\n",
    "\n",
    "fields = ['Re_Hy', 'Im_Hy', 'eps']\n",
    "\n",
    "for field in fields:\n",
    "    hr_data[field] = np.empty((num_examples, hr_nx, hr_nz))\n",
    "    lr_data[field] = np.empty((num_examples, lr_nx, lr_nz))\n",
    "\n",
    "for ex_num in range(num_examples):\n",
    "    print(ex_num)\n",
    "    hr_data['Re_Hy'][ex_num] = data['Hy_fields'][ex_num, 0, :, :]\n",
    "    hr_data['Im_Hy'][ex_num] = data['Hy_fields'][ex_num, 1, :, :]\n",
    "    hr_data['eps'][ex_num] = data['structures'][ex_num, 0, :, :]\n",
    "\n",
    "    for field in fields:\n",
    "        lr_data[field][ex_num] = (hr_data[field][ex_num][::2, ::2] + hr_data[field][ex_num][1::2, ::2] + hr_data[field][ex_num][::2, 1::2] + hr_data[field][ex_num][1::2, 1::2])/4\n",
    "\n",
    "\n",
    "\n"
   ]
  },
  {
   "cell_type": "code",
   "execution_count": 3,
   "metadata": {},
   "outputs": [
    {
     "data": {
      "text/plain": [
       "(32, 128)"
      ]
     },
     "execution_count": 3,
     "metadata": {},
     "output_type": "execute_result"
    }
   ],
   "source": [
    "lr_data['Re_Hy'][0].shape"
   ]
  },
  {
   "cell_type": "code",
   "execution_count": 4,
   "metadata": {},
   "outputs": [],
   "source": [
    "np.savez('lr_data', Re_Hy=lr_data['Re_Hy'], Im_Hy=lr_data['Im_Hy'], eps=lr_data['eps'])\n",
    "np.savez('hr_data', Re_Hy=hr_data['Re_Hy'], Im_Hy=hr_data['Im_Hy'], eps=hr_data['eps'])"
   ]
  },
  {
   "cell_type": "code",
   "execution_count": 5,
   "metadata": {},
   "outputs": [],
   "source": [
    "lr_data_load = np.load('lr_data.npz')"
   ]
  },
  {
   "cell_type": "code",
   "execution_count": 6,
   "metadata": {},
   "outputs": [
    {
     "data": {
      "text/plain": [
       "array([[2.1025002 , 2.1025002 , 2.1025002 , ..., 2.1025002 , 2.1025002 ,\n",
       "        2.1025002 ],\n",
       "       [2.1025002 , 2.1025002 , 2.1025002 , ..., 2.1025002 , 2.1025002 ,\n",
       "        2.1025002 ],\n",
       "       [1.5512501 , 1.5512501 , 1.5512501 , ..., 6.42823088, 6.42823088,\n",
       "        6.42823088],\n",
       "       ...,\n",
       "       [1.        , 1.        , 1.        , ..., 1.        , 1.        ,\n",
       "        1.        ],\n",
       "       [1.        , 1.        , 1.        , ..., 1.        , 1.        ,\n",
       "        1.        ],\n",
       "       [1.        , 1.        , 1.        , ..., 1.        , 1.        ,\n",
       "        1.        ]])"
      ]
     },
     "execution_count": 6,
     "metadata": {},
     "output_type": "execute_result"
    }
   ],
   "source": [
    "lr_data_load['eps'][0]"
   ]
  }
 ],
 "metadata": {
  "kernelspec": {
   "display_name": "phys113",
   "language": "python",
   "name": "python3"
  },
  "language_info": {
   "codemirror_mode": {
    "name": "ipython",
    "version": 3
   },
   "file_extension": ".py",
   "mimetype": "text/x-python",
   "name": "python",
   "nbconvert_exporter": "python",
   "pygments_lexer": "ipython3",
   "version": "3.11.3"
  },
  "orig_nbformat": 4
 },
 "nbformat": 4,
 "nbformat_minor": 2
}
