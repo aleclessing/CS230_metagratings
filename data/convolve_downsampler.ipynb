{
 "cells": [
  {
   "cell_type": "code",
   "execution_count": 3,
   "metadata": {},
   "outputs": [],
   "source": [
    "import numpy as np\n",
    "\n",
    "data = np.load('test_ds.npz')"
   ]
  },
  {
   "cell_type": "code",
   "execution_count": 4,
   "metadata": {},
   "outputs": [
    {
     "ename": "NameError",
     "evalue": "name 'downsamp' is not defined",
     "output_type": "error",
     "traceback": [
      "\u001b[0;31m---------------------------------------------------------------------------\u001b[0m",
      "\u001b[0;31mNameError\u001b[0m                                 Traceback (most recent call last)",
      "Cell \u001b[0;32mIn[4], line 5\u001b[0m\n\u001b[1;32m      2\u001b[0m hr_nz \u001b[39m=\u001b[39m data[\u001b[39m'\u001b[39m\u001b[39mHy_fields\u001b[39m\u001b[39m'\u001b[39m][\u001b[39m0\u001b[39m][\u001b[39m0\u001b[39m]\u001b[39m.\u001b[39mshape[\u001b[39m1\u001b[39m]\n\u001b[1;32m      3\u001b[0m num_examples \u001b[39m=\u001b[39m \u001b[39m1000\u001b[39m \u001b[39m#data['Hy_fields'].shape[0]\u001b[39;00m\n\u001b[0;32m----> 5\u001b[0m lr_nx \u001b[39m=\u001b[39m \u001b[39mint\u001b[39m(hr_nx\u001b[39m/\u001b[39mdownsamp)\n\u001b[1;32m      6\u001b[0m lr_nz \u001b[39m=\u001b[39m \u001b[39mint\u001b[39m(hr_nz\u001b[39m/\u001b[39mdownsamp)\n\u001b[1;32m      8\u001b[0m lr_data \u001b[39m=\u001b[39m {}\n",
      "\u001b[0;31mNameError\u001b[0m: name 'downsamp' is not defined"
     ]
    }
   ],
   "source": [
    "downsamp = 2\n",
    "\n",
    "hr_nx = data['Hy_fields'][0][0].shape[0]\n",
    "hr_nz = data['Hy_fields'][0][0].shape[1]\n",
    "num_examples = 1000 #data['Hy_fields'].shape[0]\n",
    "\n",
    "lr_nx = int(hr_nx/downsamp)\n",
    "lr_nz = int(hr_nz/downsamp)\n",
    "\n",
    "lr_data = {}\n",
    "hr_data = {}\n",
    "\n",
    "fields = ['Re_Hy', 'Im_Hy', 'eps']\n",
    "\n",
    "for field in fields:\n",
    "    hr_data[field] = np.empty((num_examples, hr_nx, hr_nz))\n",
    "    lr_data[field] = np.empty((num_examples, lr_nx, lr_nz))\n",
    "\n",
    "for ex_num in range(num_examples):\n",
    "    print(ex_num)\n",
    "    hr_data['Re_Hy'][ex_num] = data['Hy_fields'][ex_num, 0, :, :]\n",
    "    hr_data['Im_Hy'][ex_num] = data['Hy_fields'][ex_num, 1, :, :]\n",
    "    hr_data['eps'][ex_num] = data['structures'][ex_num, 0, :, :]\n",
    "\n",
    "    for field in fields:\n",
    "        lr_data[field][ex_num] = (hr_data[field][ex_num][::2, ::2] + hr_data[field][ex_num][1::2, ::2] + hr_data[field][ex_num][::2, 1::2] + hr_data[field][ex_num][1::2, 1::2])/4\n",
    "\n",
    "\n",
    "\n"
   ]
  },
  {
   "cell_type": "code",
   "execution_count": null,
   "metadata": {},
   "outputs": [
    {
     "data": {
      "text/plain": [
       "(32, 128)"
      ]
     },
     "execution_count": 3,
     "metadata": {},
     "output_type": "execute_result"
    }
   ],
   "source": [
    "lr_data['Re_Hy'][0].shape"
   ]
  },
  {
   "cell_type": "code",
   "execution_count": null,
   "metadata": {},
   "outputs": [],
   "source": [
    "np.savez('lr_data', Re_Hy=lr_data['Re_Hy'], Im_Hy=lr_data['Im_Hy'], eps=lr_data['eps'])\n",
    "np.savez('hr_data', Re_Hy=hr_data['Re_Hy'], Im_Hy=hr_data['Im_Hy'], eps=hr_data['eps'])"
   ]
  },
  {
   "cell_type": "code",
   "execution_count": null,
   "metadata": {},
   "outputs": [],
   "source": [
    "lr_data_load = np.load('lr_data.npz')"
   ]
  },
  {
   "cell_type": "code",
   "execution_count": null,
   "metadata": {},
   "outputs": [
    {
     "data": {
      "text/plain": [
       "array([[2.1025002 , 2.1025002 , 2.1025002 , ..., 2.1025002 , 2.1025002 ,\n",
       "        2.1025002 ],\n",
       "       [2.1025002 , 2.1025002 , 2.1025002 , ..., 2.1025002 , 2.1025002 ,\n",
       "        2.1025002 ],\n",
       "       [1.5512501 , 1.5512501 , 1.5512501 , ..., 6.42823088, 6.42823088,\n",
       "        6.42823088],\n",
       "       ...,\n",
       "       [1.        , 1.        , 1.        , ..., 1.        , 1.        ,\n",
       "        1.        ],\n",
       "       [1.        , 1.        , 1.        , ..., 1.        , 1.        ,\n",
       "        1.        ],\n",
       "       [1.        , 1.        , 1.        , ..., 1.        , 1.        ,\n",
       "        1.        ]])"
      ]
     },
     "execution_count": 6,
     "metadata": {},
     "output_type": "execute_result"
    }
   ],
   "source": [
    "lr_data_load['eps'][0]"
   ]
  }
 ],
 "metadata": {
  "kernelspec": {
   "display_name": "phys113",
   "language": "python",
   "name": "python3"
  },
  "language_info": {
   "codemirror_mode": {
    "name": "ipython",
    "version": 3
   },
   "file_extension": ".py",
   "mimetype": "text/x-python",
   "name": "python",
   "nbconvert_exporter": "python",
   "pygments_lexer": "ipython3",
   "version": "3.11.3"
  },
  "orig_nbformat": 4
 },
 "nbformat": 4,
 "nbformat_minor": 2
}
