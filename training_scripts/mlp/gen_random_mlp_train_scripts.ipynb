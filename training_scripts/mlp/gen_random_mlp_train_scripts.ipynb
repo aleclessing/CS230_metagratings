{
 "cells": [
  {
   "cell_type": "code",
   "execution_count": 1,
   "metadata": {},
   "outputs": [],
   "source": [
    "import numpy as np\n",
    "import os"
   ]
  },
  {
   "cell_type": "code",
   "execution_count": 2,
   "metadata": {},
   "outputs": [],
   "source": [
    "num_scripts = 30"
   ]
  },
  {
   "cell_type": "code",
   "execution_count": 3,
   "metadata": {},
   "outputs": [],
   "source": [
    "for scr_num in range(1, num_scripts+1):\n",
    "    fname = 'mlp_train_scr' + str(scr_num) + '.sh'\n",
    "    if os.path.exists(fname):\n",
    "        print(fname, \"Already exists\")\n",
    "        continue\n",
    "    with open(fname, 'w') as train_script:\n",
    "        num_epochs = 50\n",
    "        batch_size = 1024\n",
    "        lr = 10**(-np.random.uniform(low=1, high=4))\n",
    "        scale_factor = np.random.choice([2, 4, 8, 16])\n",
    "        gamma = 1 - 10**(-np.random.uniform(low=0.7, high=3))\n",
    "        weight_decay = 10**(-np.random.uniform(low=1, high=5))\n",
    "        run_name = \"mlp_run\" + str(scr_num)\n",
    "        train_script.write(\"python mlp_train.py -e \" + str(num_epochs) + \" -b \" + str(batch_size) + \" -l \" + str(lr) + \" -s \" + str(scale_factor) + \" -g \" + str(gamma) + \" -w \" + str(weight_decay) + \" -r \" + run_name)"
   ]
  }
 ],
 "metadata": {
  "kernelspec": {
   "display_name": "metagratings",
   "language": "python",
   "name": "python3"
  },
  "language_info": {
   "codemirror_mode": {
    "name": "ipython",
    "version": 3
   },
   "file_extension": ".py",
   "mimetype": "text/x-python",
   "name": "python",
   "nbconvert_exporter": "python",
   "pygments_lexer": "ipython3",
   "version": "3.11.3"
  },
  "orig_nbformat": 4
 },
 "nbformat": 4,
 "nbformat_minor": 2
}
