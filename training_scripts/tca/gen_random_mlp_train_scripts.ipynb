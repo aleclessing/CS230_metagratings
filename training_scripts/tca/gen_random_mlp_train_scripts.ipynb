{
 "cells": [
  {
   "cell_type": "code",
   "execution_count": 5,
   "metadata": {},
   "outputs": [],
   "source": [
    "import numpy as np\n",
    "import os"
   ]
  },
  {
   "cell_type": "code",
   "execution_count": 6,
   "metadata": {},
   "outputs": [],
   "source": [
    "num_scripts = 40"
   ]
  },
  {
   "cell_type": "code",
   "execution_count": 7,
   "metadata": {},
   "outputs": [
    {
     "name": "stdout",
     "output_type": "stream",
     "text": [
      "tca_train_scr1.sh Already exists\n",
      "tca_train_scr2.sh Already exists\n",
      "tca_train_scr3.sh Already exists\n",
      "tca_train_scr4.sh Already exists\n",
      "tca_train_scr5.sh Already exists\n",
      "tca_train_scr6.sh Already exists\n",
      "tca_train_scr7.sh Already exists\n",
      "tca_train_scr8.sh Already exists\n",
      "tca_train_scr9.sh Already exists\n",
      "tca_train_scr10.sh Already exists\n",
      "tca_train_scr11.sh Already exists\n",
      "tca_train_scr12.sh Already exists\n",
      "tca_train_scr13.sh Already exists\n",
      "tca_train_scr14.sh Already exists\n",
      "tca_train_scr15.sh Already exists\n",
      "tca_train_scr16.sh Already exists\n",
      "tca_train_scr17.sh Already exists\n",
      "tca_train_scr18.sh Already exists\n",
      "tca_train_scr19.sh Already exists\n",
      "tca_train_scr20.sh Already exists\n",
      "tca_train_scr21.sh Already exists\n",
      "tca_train_scr22.sh Already exists\n",
      "tca_train_scr23.sh Already exists\n",
      "tca_train_scr24.sh Already exists\n",
      "tca_train_scr25.sh Already exists\n",
      "tca_train_scr26.sh Already exists\n",
      "tca_train_scr27.sh Already exists\n",
      "tca_train_scr28.sh Already exists\n",
      "tca_train_scr29.sh Already exists\n",
      "tca_train_scr30.sh Already exists\n",
      "tca_train_scr31.sh Already exists\n",
      "tca_train_scr32.sh Already exists\n",
      "tca_train_scr33.sh Already exists\n",
      "tca_train_scr34.sh Already exists\n",
      "tca_train_scr35.sh Already exists\n",
      "tca_train_scr36.sh Already exists\n",
      "tca_train_scr37.sh Already exists\n",
      "tca_train_scr38.sh Already exists\n",
      "tca_train_scr39.sh Already exists\n",
      "tca_train_scr40.sh Already exists\n"
     ]
    }
   ],
   "source": [
    "for scr_num in range(1, num_scripts+1):\n",
    "    fname = 'tca_train_scr' + str(scr_num) + '.sh'\n",
    "    if os.path.exists(fname):\n",
    "        print(fname, \"Already exists\")\n",
    "        continue\n",
    "    with open(fname, 'w') as train_script:\n",
    "        num_epochs = 50\n",
    "        batch_size = 1024\n",
    "        lr = 10**(-np.random.uniform(low=1, high=4))\n",
    "        scale_factor = np.random.choice([2, 4, 8, 16])\n",
    "        gamma = 1 - 10**(-np.random.uniform(low=0.7, high=3))\n",
    "        weight_decay = 10**(-np.random.uniform(low=1, high=5))\n",
    "        cpu_num = 0 #0 means no workers, best for sherlock\n",
    "        run_name = \"tca_run\" + str(scr_num)\n",
    "\n",
    "        train_script.write(\"python3 tca_train.py -e \" + str(num_epochs) + \" -b \" + str(batch_size) + \" -l \" + str(lr) + \" -s \" + str(scale_factor) + \" -g \" + str(gamma) + \" -w \" + str(weight_decay) + \" -r \" + run_name + \" -cpu \" + str(cpu_num))"
   ]
  },
  {
   "cell_type": "code",
   "execution_count": 8,
   "metadata": {},
   "outputs": [
    {
     "name": "stdout",
     "output_type": "stream",
     "text": [
      "tca_train_scr1.sbatch Already exists\n",
      "tca_train_scr2.sbatch Already exists\n",
      "tca_train_scr3.sbatch Already exists\n",
      "tca_train_scr4.sbatch Already exists\n",
      "tca_train_scr5.sbatch Already exists\n",
      "tca_train_scr6.sbatch Already exists\n",
      "tca_train_scr7.sbatch Already exists\n",
      "tca_train_scr8.sbatch Already exists\n",
      "tca_train_scr9.sbatch Already exists\n",
      "tca_train_scr10.sbatch Already exists\n",
      "tca_train_scr11.sbatch Already exists\n",
      "tca_train_scr12.sbatch Already exists\n",
      "tca_train_scr13.sbatch Already exists\n",
      "tca_train_scr14.sbatch Already exists\n",
      "tca_train_scr15.sbatch Already exists\n",
      "tca_train_scr16.sbatch Already exists\n",
      "tca_train_scr17.sbatch Already exists\n",
      "tca_train_scr18.sbatch Already exists\n",
      "tca_train_scr19.sbatch Already exists\n",
      "tca_train_scr20.sbatch Already exists\n",
      "tca_train_scr21.sbatch Already exists\n",
      "tca_train_scr22.sbatch Already exists\n",
      "tca_train_scr23.sbatch Already exists\n",
      "tca_train_scr24.sbatch Already exists\n",
      "tca_train_scr25.sbatch Already exists\n",
      "tca_train_scr26.sbatch Already exists\n",
      "tca_train_scr27.sbatch Already exists\n",
      "tca_train_scr28.sbatch Already exists\n",
      "tca_train_scr29.sbatch Already exists\n",
      "tca_train_scr30.sbatch Already exists\n",
      "tca_train_scr31.sbatch Already exists\n",
      "tca_train_scr32.sbatch Already exists\n",
      "tca_train_scr33.sbatch Already exists\n",
      "tca_train_scr34.sbatch Already exists\n",
      "tca_train_scr35.sbatch Already exists\n",
      "tca_train_scr36.sbatch Already exists\n",
      "tca_train_scr37.sbatch Already exists\n",
      "tca_train_scr38.sbatch Already exists\n",
      "tca_train_scr39.sbatch Already exists\n",
      "tca_train_scr40.sbatch Already exists\n"
     ]
    }
   ],
   "source": [
    "for scr_num in range(1, num_scripts+1):\n",
    "    fname = 'tca_train_scr' + str(scr_num) + '.sbatch'\n",
    "    if os.path.exists(fname):\n",
    "        print(fname, \"Already exists\")\n",
    "        #continue\n",
    "    with open(fname, 'w') as train_script:\n",
    "        num_epochs = 50\n",
    "        batch_size = 1024\n",
    "        lr = 10**(-np.random.uniform(low=1, high=4))\n",
    "        scale_factor = np.random.choice([2, 4, 8, 16])\n",
    "        gamma = 1 - 10**(-np.random.uniform(low=0.7, high=3))\n",
    "        weight_decay = 10**(-np.random.uniform(low=1, high=5))\n",
    "        run_name = \"tca_run\" + str(scr_num)\n",
    "\n",
    "        sherlock_prefix_gpu = \"#!/bin/bash\\n#SBATCH -p gpu\\n#SBATCH -c 4\\n#SBATCH -G 1\\n\\n#SBATCH --time=8:00:00\\n#SBATCH --job-name=\" + run_name +\"\\n#SBATCH --output=outputs/\" + run_name +\"_out.out\\n#SBATCH --mem=16G\\n#SBATCH --error=errs/\" + run_name + \"_err.err\\n\\nmodule load py-pytorch/2.0.0_py39\\n\\n\"\n",
    "        sherlock_prefix_cpu = \"#!/bin/bash\\n#SBATCH -c 4\\n#SBATCH --time=8:00:00\\n#SBATCH --job-name=\" + run_name +\"\\n#SBATCH --output=outputs/\" + run_name +\"_out.out\\n#SBATCH --mem=32G\\n#SBATCH --error=errs/\" + run_name + \"_err.err\\n\\nmodule load py-pytorch/2.0.0_py39\\n\\n\"\n",
    "\n",
    "        train_script.write(sherlock_prefix_cpu + \"./training_scripts/tca/tca_train_scr\"+str(scr_num)+\".sh\")"
   ]
  }
 ],
 "metadata": {
  "kernelspec": {
   "display_name": "metagratings",
   "language": "python",
   "name": "python3"
  },
  "language_info": {
   "codemirror_mode": {
    "name": "ipython",
    "version": 3
   },
   "file_extension": ".py",
   "mimetype": "text/x-python",
   "name": "python",
   "nbconvert_exporter": "python",
   "pygments_lexer": "ipython3",
   "version": "3.11.3"
  },
  "orig_nbformat": 4
 },
 "nbformat": 4,
 "nbformat_minor": 2
}
