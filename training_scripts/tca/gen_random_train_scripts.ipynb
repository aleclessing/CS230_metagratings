{
 "cells": [
  {
   "cell_type": "code",
   "execution_count": 9,
   "metadata": {},
   "outputs": [],
   "source": [
    "import numpy as np\n",
    "import os"
   ]
  },
  {
   "cell_type": "code",
   "execution_count": 10,
   "metadata": {},
   "outputs": [],
   "source": [
    "num_scripts = 20"
   ]
  },
  {
   "cell_type": "code",
   "execution_count": 11,
   "metadata": {},
   "outputs": [],
   "source": [
    "for scr_num in range(1, num_scripts+1):\n",
    "    fname = 'tca_train_scr' + str(scr_num) + '.sh'\n",
    "    if os.path.exists(fname):\n",
    "        print(fname, \"Already exists\")\n",
    "        continue\n",
    "    with open(fname, 'w') as train_script:\n",
    "        num_epochs = 50\n",
    "        batch_size = 1024\n",
    "        lr = 10**(-np.random.uniform(low=1, high=4))\n",
    "        scale_factor = np.random.choice([2, 4, 8, 16])\n",
    "        gamma = 1 - 10**(-np.random.uniform(low=0.7, high=3))\n",
    "        weight_decay = 10**(-np.random.uniform(low=1, high=5))\n",
    "        cpu_num = 4\n",
    "        run_name = \"tca_run\" + str(scr_num)\n",
    "\n",
    "        train_script.write(\"python3 tca_train.py -e \" + str(num_epochs) + \" -b \" + str(batch_size) + \" -l \" + str(lr) + \" -s \" + str(scale_factor) + \" -g \" + str(gamma) + \" -w \" + str(weight_decay) + \" -r \" + run_name + \" -cpu \" + str(cpu_num))"
   ]
  },
  {
   "cell_type": "code",
   "execution_count": 12,
   "metadata": {},
   "outputs": [],
   "source": [
    "for scr_num in range(1, num_scripts+1):\n",
    "    fname = 'tca_train_scr' + str(scr_num) + '.sbatch'\n",
    "    with open(fname, 'w') as train_script:\n",
    "        num_epochs = 50\n",
    "        batch_size = 1024\n",
    "        lr = 10**(-np.random.uniform(low=1, high=4))\n",
    "        scale_factor = np.random.choice([2, 4, 8, 16])\n",
    "        gamma = 1 - 10**(-np.random.uniform(low=0.7, high=3))\n",
    "        weight_decay = 10**(-np.random.uniform(low=1, high=5))\n",
    "        run_name = \"tca_run\" + str(scr_num)\n",
    "\n",
    "        sherlock_prefix_gpu = \"#!/bin/bash\\n#SBATCH -p gpu\\n#SBATCH -c 4\\n#SBATCH -G 1\\n\\n#SBATCH --time=8:00:00\\n#SBATCH --job-name=\" + run_name +\"\\n#SBATCH --output=outputs/\" + run_name +\"_out.out\\n#SBATCH --mem=16G\\n#SBATCH --error=errs/\" + run_name + \"_err.err\\n\\nmodule load py-pytorch/2.0.0_py39\\n\\n\"\n",
    "        sherlock_prefix_cpu = \"#!/bin/bash\\n#SBATCH -c 4\\n#SBATCH --time=10:00:00\\n#SBATCH --job-name=\" + run_name +\"\\n#SBATCH --output=outputs/\" + run_name +\"_out.out\\n#SBATCH --mem=32G\\n#SBATCH --error=errs/\" + run_name + \"_err.err\\n\\nmodule load py-pytorch/2.0.0_py39\\n\\n\"\n",
    "\n",
    "        train_script.write(sherlock_prefix_cpu + \"./training_scripts/tca/tca_train_scr\"+str(scr_num)+\".sh\")"
   ]
  }
 ],
 "metadata": {
  "kernelspec": {
   "display_name": "metagratings",
   "language": "python",
   "name": "python3"
  },
  "language_info": {
   "codemirror_mode": {
    "name": "ipython",
    "version": 3
   },
   "file_extension": ".py",
   "mimetype": "text/x-python",
   "name": "python",
   "nbconvert_exporter": "python",
   "pygments_lexer": "ipython3",
   "version": "3.11.3"
  },
  "orig_nbformat": 4
 },
 "nbformat": 4,
 "nbformat_minor": 2
}
