{
 "cells": [
  {
   "cell_type": "code",
   "execution_count": 55,
   "metadata": {},
   "outputs": [],
   "source": [
    "import numpy as np\n",
    "import os"
   ]
  },
  {
   "cell_type": "code",
   "execution_count": 56,
   "metadata": {},
   "outputs": [],
   "source": [
    "num_scripts = 10"
   ]
  },
  {
   "cell_type": "code",
   "execution_count": 57,
   "metadata": {},
   "outputs": [
    {
     "name": "stdout",
     "output_type": "stream",
     "text": [
      "training_scripts/tca/tca_train_scr1.sh Already exists\n",
      "training_scripts/tca/tca_train_scr2.sh Already exists\n",
      "training_scripts/tca/tca_train_scr3.sh Already exists\n",
      "training_scripts/tca/tca_train_scr4.sh Already exists\n",
      "training_scripts/tca/tca_train_scr5.sh Already exists\n",
      "training_scripts/tca/tca_train_scr6.sh Already exists\n",
      "training_scripts/tca/tca_train_scr7.sh Already exists\n",
      "training_scripts/tca/tca_train_scr8.sh Already exists\n",
      "training_scripts/tca/tca_train_scr9.sh Already exists\n",
      "training_scripts/tca/tca_train_scr10.sh Already exists\n"
     ]
    }
   ],
   "source": [
    "for scr_num in range(1, num_scripts+1):\n",
    "    fname = 'training_scripts/tca/tca_train_scr' + str(scr_num) + '.sh'\n",
    "    if os.path.exists(fname):\n",
    "        print(fname, \"Already exists\")\n",
    "        continue\n",
    "    with open(fname, 'w') as train_script:\n",
    "        num_epochs = 50\n",
    "        batch_size = 256\n",
    "        lr = 10**(-np.random.uniform(low=1, high=4))\n",
    "        scale_factor = np.random.choice([2, 4, 8, 16])\n",
    "        gamma = 1 - 10**(-np.random.uniform(low=0.7, high=3))\n",
    "        weight_decay = 10**(-np.random.uniform(low=1, high=5))\n",
    "        run_name = \"tca_run\" + str(scr_num)\n",
    "        train_script.write(\"python tca_train.py -e \" + str(num_epochs) + \" -b \" + str(256) + \" -l \" + str(lr) + \"-s \" + str(scale_factor) + \" -g \" + str(gamma) + \" -w \" + str(weight_decay) + \" -r \" + run_name)"
   ]
  }
 ],
 "metadata": {
  "kernelspec": {
   "display_name": "metagratings",
   "language": "python",
   "name": "python3"
  },
  "language_info": {
   "codemirror_mode": {
    "name": "ipython",
    "version": 3
   },
   "file_extension": ".py",
   "mimetype": "text/x-python",
   "name": "python",
   "nbconvert_exporter": "python",
   "pygments_lexer": "ipython3",
   "version": "3.11.3"
  },
  "orig_nbformat": 4
 },
 "nbformat": 4,
 "nbformat_minor": 2
}
